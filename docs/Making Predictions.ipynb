{
 "cells": [
  {
   "cell_type": "code",
   "execution_count": 1,
   "metadata": {},
   "outputs": [
    {
     "name": "stderr",
     "output_type": "stream",
     "text": [
      "/home/eoin/anaconda3/envs/Software/lib/python3.6/site-packages/sklearn/cross_validation.py:41: DeprecationWarning: This module was deprecated in version 0.18 in favor of the model_selection module into which all the refactored classes and functions are moved. Also note that the interface of the new CV iterators are different from that of this module. This module will be removed in 0.20.\n",
      "  \"This module will be removed in 0.20.\", DeprecationWarning)\n"
     ]
    }
   ],
   "source": [
    "import pandas as pd\n",
    "from sklearn.utils import shuffle\n",
    "from sklearn.linear_model import LinearRegression\n",
    "from sklearn import metrics\n",
    "from sklearn.cross_validation import cross_val_score\n",
    "import pickle"
   ]
  },
  {
   "cell_type": "code",
   "execution_count": 2,
   "metadata": {},
   "outputs": [],
   "source": [
    "from bikefind.linearRegression import getMergeTable, getForecastTable"
   ]
  },
  {
   "cell_type": "code",
   "execution_count": 3,
   "metadata": {
    "scrolled": true
   },
   "outputs": [],
   "source": [
    "lm = pickle.load(open( \"model.p\", \"rb\" ) )"
   ]
  },
  {
   "cell_type": "code",
   "execution_count": 4,
   "metadata": {},
   "outputs": [],
   "source": [
    "df_forecast = getForecastTable('Thursday', 9)"
   ]
  },
  {
   "cell_type": "code",
   "execution_count": 5,
   "metadata": {},
   "outputs": [],
   "source": [
    "X = df_forecast"
   ]
  },
  {
   "cell_type": "code",
   "execution_count": 6,
   "metadata": {},
   "outputs": [],
   "source": [
    "X['Intercept'] = 1.0"
   ]
  },
  {
   "cell_type": "code",
   "execution_count": 7,
   "metadata": {},
   "outputs": [],
   "source": [
    "#for i in ['time', 'icon', 'datetime', 'latitude', 'longitude', 'banking', 'minTemp', 'maxTemp']:\n",
    "#    del X[i]"
   ]
  },
  {
   "cell_type": "code",
   "execution_count": 8,
   "metadata": {},
   "outputs": [],
   "source": [
    "X['hour'] = X['hour'].astype('category')"
   ]
  },
  {
   "cell_type": "code",
   "execution_count": 9,
   "metadata": {},
   "outputs": [],
   "source": [
    "X = pd.get_dummies(X)"
   ]
  },
  {
   "cell_type": "code",
   "execution_count": 10,
   "metadata": {},
   "outputs": [],
   "source": [
    "features = pickle.load(open( \"features.p\", \"rb\" ) )"
   ]
  },
  {
   "cell_type": "code",
   "execution_count": 11,
   "metadata": {},
   "outputs": [],
   "source": [
    "for feature in list(X):\n",
    "    if feature not in features:\n",
    "        del X[feature]\n",
    "        \n",
    "for feature in features:\n",
    "    if feature not in list(X):\n",
    "        X[feature] = False"
   ]
  },
  {
   "cell_type": "code",
   "execution_count": 12,
   "metadata": {},
   "outputs": [
    {
     "name": "stderr",
     "output_type": "stream",
     "text": [
      "/home/eoin/anaconda3/envs/Software/lib/python3.6/site-packages/ipykernel/__main__.py:1: FutureWarning: '.reindex_axis' is deprecated and will be removed in a future version. Use '.reindex' instead.\n",
      "  if __name__ == '__main__':\n"
     ]
    }
   ],
   "source": [
    "X = X.reindex_axis(sorted(X.columns), axis=1)"
   ]
  },
  {
   "cell_type": "code",
   "execution_count": 13,
   "metadata": {},
   "outputs": [],
   "source": [
    "X[\"PredictedBikes\"] = lm.predict(X)"
   ]
  },
  {
   "cell_type": "code",
   "execution_count": 14,
   "metadata": {},
   "outputs": [
    {
     "data": {
      "text/plain": [
       "0      21.521484\n",
       "1      -0.152191\n",
       "2      11.000275\n",
       "3       7.455505\n",
       "4       4.668060\n",
       "5      11.977417\n",
       "6      12.920715\n",
       "7      18.826965\n",
       "8       7.193329\n",
       "9      11.810120\n",
       "10     15.494629\n",
       "11     12.720627\n",
       "12     14.047119\n",
       "13      7.308990\n",
       "14     17.797760\n",
       "15     14.346222\n",
       "16      9.399536\n",
       "17      8.199432\n",
       "18     18.271454\n",
       "19      6.349762\n",
       "20      8.011536\n",
       "21      9.572800\n",
       "22     15.407486\n",
       "23     12.465912\n",
       "24     19.269165\n",
       "25     13.737549\n",
       "26      1.115448\n",
       "27     11.081696\n",
       "28     17.753571\n",
       "29     13.226471\n",
       "         ...    \n",
       "74     12.063690\n",
       "75     16.381546\n",
       "76     21.714233\n",
       "77      6.553085\n",
       "78      7.553436\n",
       "79     12.941040\n",
       "80     15.765930\n",
       "81     15.069489\n",
       "82     15.640625\n",
       "83     13.194748\n",
       "84     13.374252\n",
       "85      0.318726\n",
       "86     15.085327\n",
       "87     12.284851\n",
       "88     16.442261\n",
       "89     19.071396\n",
       "90     18.733154\n",
       "91     18.293793\n",
       "92     15.006592\n",
       "93      9.060303\n",
       "94     20.297531\n",
       "95     24.341797\n",
       "96     18.649948\n",
       "97     11.544434\n",
       "98     13.927704\n",
       "99     15.177185\n",
       "100     7.454407\n",
       "101    10.608459\n",
       "102    10.815033\n",
       "103    13.091339\n",
       "Name: PredictedBikes, Length: 104, dtype: float64"
      ]
     },
     "execution_count": 14,
     "metadata": {},
     "output_type": "execute_result"
    }
   ],
   "source": [
    "X[\"PredictedBikes\"]"
   ]
  }
 ],
 "metadata": {
  "kernelspec": {
   "display_name": "Python [conda env:Software]",
   "language": "python",
   "name": "conda-env-Software-py"
  },
  "language_info": {
   "codemirror_mode": {
    "name": "ipython",
    "version": 3
   },
   "file_extension": ".py",
   "mimetype": "text/x-python",
   "name": "python",
   "nbconvert_exporter": "python",
   "pygments_lexer": "ipython3",
   "version": "3.6.4"
  }
 },
 "nbformat": 4,
 "nbformat_minor": 2
}
