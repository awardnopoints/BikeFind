{
 "cells": [
  {
   "cell_type": "code",
   "execution_count": 1,
   "metadata": {},
   "outputs": [
    {
     "name": "stderr",
     "output_type": "stream",
     "text": [
      "/home/eoin/anaconda3/envs/Software/lib/python3.6/site-packages/sklearn/cross_validation.py:41: DeprecationWarning: This module was deprecated in version 0.18 in favor of the model_selection module into which all the refactored classes and functions are moved. Also note that the interface of the new CV iterators are different from that of this module. This module will be removed in 0.20.\n",
      "  \"This module will be removed in 0.20.\", DeprecationWarning)\n"
     ]
    }
   ],
   "source": [
    "import pandas as pd\n",
    "from sklearn.utils import shuffle\n",
    "from sklearn.linear_model import LinearRegression\n",
    "from sklearn import metrics\n",
    "from sklearn.cross_validation import cross_val_score\n",
    "import pickle"
   ]
  },
  {
   "cell_type": "code",
   "execution_count": 2,
   "metadata": {},
   "outputs": [],
   "source": [
    "from bikefind.linearRegression import getMergeTable, getForecastTable"
   ]
  },
  {
   "cell_type": "code",
   "execution_count": 3,
   "metadata": {
    "scrolled": true
   },
   "outputs": [],
   "source": [
    "lm = pickle.load(open( \"model.p\", \"rb\" ) )"
   ]
  },
  {
   "cell_type": "code",
   "execution_count": 4,
   "metadata": {},
   "outputs": [],
   "source": [
    "df_forecast = getForecastTable('Thursday', 9)"
   ]
  },
  {
   "cell_type": "code",
   "execution_count": 5,
   "metadata": {},
   "outputs": [
    {
     "data": {
      "text/plain": [
       "time                            int64\n",
       "mainDescription                object\n",
       "detailedDescription            object\n",
       "icon                           object\n",
       "currentTemp                   float64\n",
       "maxTemp                       float64\n",
       "minTemp                       float64\n",
       "pressure                        int64\n",
       "humidity                        int64\n",
       "windSpeed                     float64\n",
       "windAngle                       int64\n",
       "cloudDensity                    int64\n",
       "datetime               datetime64[ns]\n",
       "day                            object\n",
       "hour                            int64\n",
       "address                        object\n",
       "latitude                       object\n",
       "longitude                      object\n",
       "banking                         int64\n",
       "dtype: object"
      ]
     },
     "execution_count": 5,
     "metadata": {},
     "output_type": "execute_result"
    }
   ],
   "source": [
    "X = df_forecast\n",
    "X.dtypes"
   ]
  },
  {
   "cell_type": "code",
   "execution_count": 6,
   "metadata": {},
   "outputs": [],
   "source": [
    "X['Intercept'] = 1.0"
   ]
  },
  {
   "cell_type": "code",
   "execution_count": 7,
   "metadata": {},
   "outputs": [],
   "source": [
    "for i in ['time', 'icon', 'datetime', 'latitude', 'longitude', 'banking', 'minTemp', 'maxTemp']:\n",
    "    del X[i]"
   ]
  },
  {
   "cell_type": "code",
   "execution_count": 8,
   "metadata": {},
   "outputs": [],
   "source": [
    "X['hour'] = X['hour'].astype('category')"
   ]
  },
  {
   "cell_type": "code",
   "execution_count": 9,
   "metadata": {},
   "outputs": [],
   "source": [
    "X = pd.get_dummies(X)"
   ]
  },
  {
   "cell_type": "code",
   "execution_count": 10,
   "metadata": {},
   "outputs": [],
   "source": [
    "features = pickle.load(open( \"features.p\", \"rb\" ) )"
   ]
  },
  {
   "cell_type": "code",
   "execution_count": 11,
   "metadata": {},
   "outputs": [],
   "source": [
    "for feature in list(X):\n",
    "    if feature not in features:\n",
    "        del X[feature]\n",
    "        \n",
    "for feature in features:\n",
    "    if feature not in list(X):\n",
    "        X[feature] = False"
   ]
  },
  {
   "cell_type": "code",
   "execution_count": 12,
   "metadata": {},
   "outputs": [
    {
     "data": {
      "text/plain": [
       "166"
      ]
     },
     "execution_count": 12,
     "metadata": {},
     "output_type": "execute_result"
    }
   ],
   "source": [
    "len(list(X))"
   ]
  },
  {
   "cell_type": "code",
   "execution_count": 13,
   "metadata": {},
   "outputs": [
    {
     "data": {
      "text/plain": [
       "array([-5.04815399e+11, -5.04815399e+11, -5.04815399e+11, -3.40847390e+11,\n",
       "       -3.40847390e+11, -3.40847390e+11, -3.40847390e+11, -3.40847390e+11,\n",
       "       -3.40847390e+11, -3.40847390e+11, -3.40847390e+11, -3.40847390e+11,\n",
       "       -3.40847390e+11, -3.40847390e+11, -3.40847390e+11, -3.40847390e+11,\n",
       "       -3.40847390e+11, -3.40847390e+11, -3.40847390e+11, -3.40847390e+11,\n",
       "       -3.40847390e+11, -3.40847390e+11, -3.40847390e+11, -3.40847390e+11,\n",
       "       -3.40847390e+11, -3.40847390e+11, -3.40847390e+11, -3.89035752e+11,\n",
       "       -3.89035752e+11, -3.89035752e+11, -3.89035752e+11, -3.89035752e+11,\n",
       "       -3.89035752e+11, -3.89035752e+11, -3.89035752e+11, -3.89035752e+11,\n",
       "       -3.89035752e+11, -3.89035752e+11, -3.89035752e+11, -3.89035752e+11,\n",
       "       -3.89035752e+11, -3.89035752e+11, -3.89035752e+11, -3.89035752e+11,\n",
       "       -3.89035752e+11, -3.89035752e+11, -3.89035752e+11, -3.89035752e+11,\n",
       "       -3.89035752e+11, -3.89035752e+11, -3.89035752e+11, -3.89035752e+11,\n",
       "       -3.89035752e+11, -3.89035752e+11, -3.89035752e+11, -3.89035752e+11,\n",
       "       -3.89035752e+11, -3.89035752e+11, -3.89035752e+11, -3.89035752e+11,\n",
       "       -3.89035752e+11, -3.89035752e+11, -3.89035752e+11, -3.89035752e+11,\n",
       "       -3.89035752e+11, -3.89035752e+11, -3.89035752e+11, -3.89035752e+11,\n",
       "       -3.89035752e+11, -3.89035752e+11, -3.89035752e+11, -3.89035752e+11,\n",
       "       -3.89035752e+11, -3.89035752e+11, -3.89035752e+11, -3.89035752e+11,\n",
       "       -3.89035752e+11, -3.89035752e+11, -3.89035752e+11, -3.89035752e+11,\n",
       "       -3.89035752e+11, -3.89035752e+11, -3.89035752e+11, -3.89035752e+11,\n",
       "       -3.89035752e+11, -3.89035752e+11, -3.89035752e+11, -3.89035752e+11,\n",
       "       -3.89035752e+11, -3.89035752e+11, -3.89035752e+11, -3.89035752e+11,\n",
       "       -3.89035752e+11, -3.89035752e+11, -3.89035752e+11, -3.89035752e+11,\n",
       "       -3.89035752e+11, -3.89035752e+11, -3.89035752e+11, -3.89035752e+11,\n",
       "       -3.89035752e+11, -3.89035752e+11, -3.89035752e+11, -3.89035752e+11])"
      ]
     },
     "execution_count": 13,
     "metadata": {},
     "output_type": "execute_result"
    }
   ],
   "source": [
    "lm.predict(X)"
   ]
  },
  {
   "cell_type": "code",
   "execution_count": 14,
   "metadata": {},
   "outputs": [
    {
     "data": {
      "text/plain": [
       "array([-5.30072739e-02, -4.38112134e-03,  6.56981287e-04, -6.77185338e-03,\n",
       "        1.66455093e-05,  1.72921973e-03,  4.66752177e+08, -1.15761633e+11,\n",
       "       -1.15761633e+11, -1.15761633e+11, -1.15761633e+11, -1.15761633e+11,\n",
       "       -1.15761633e+11, -1.15761633e+11,  4.82063765e+10,  4.82063765e+10,\n",
       "        4.82063765e+10,  4.82063765e+10,  4.82063765e+10,  4.82063765e+10,\n",
       "        4.82063765e+10,  4.82063765e+10,  4.82063765e+10,  4.82063765e+10,\n",
       "        4.82063765e+10,  4.82063765e+10,  4.82063765e+10,  4.82063765e+10,\n",
       "        4.82063765e+10,  4.82063765e+10,  4.82063765e+10,  4.82063765e+10,\n",
       "        4.82063765e+10,  4.82063765e+10,  4.82063765e+10,  4.82063765e+10,\n",
       "        4.82063765e+10,  4.82063765e+10,  1.80144170e+07,  1.80143955e+07,\n",
       "        1.80144068e+07,  1.80144029e+07,  1.80144004e+07,  1.80144076e+07,\n",
       "        1.80144084e+07,  1.80144141e+07,  1.80144025e+07,  1.80144072e+07,\n",
       "        1.80144110e+07,  1.80144082e+07,  1.80144099e+07,  1.80144031e+07,\n",
       "        1.80144130e+07,  1.80144104e+07,  1.80144052e+07,  1.80144034e+07,\n",
       "        1.80144141e+07,  1.80144021e+07,  1.80144037e+07,  1.80144060e+07,\n",
       "        1.80144109e+07,  1.80144088e+07,  1.80144152e+07,  1.80144091e+07,\n",
       "        1.80143968e+07,  1.80144065e+07,  1.80144131e+07,  1.80144091e+07,\n",
       "        1.80144078e+07,  1.80144052e+07,  1.80144064e+07,  1.80144035e+07,\n",
       "        1.80144122e+07,  1.80143990e+07,  1.80144004e+07,  1.80143998e+07,\n",
       "        1.80144088e+07,  1.80144033e+07,  1.80143990e+07,  1.80144102e+07,\n",
       "        1.80144124e+07,  1.80144014e+07,  1.80144059e+07,  1.80143999e+07,\n",
       "        1.80144043e+07,  1.80144094e+07,  1.80144104e+07,  1.80144232e+07,\n",
       "        1.80144095e+07,  1.80144173e+07,  1.80144258e+07,  1.80144083e+07,\n",
       "        1.80144108e+07,  1.80144057e+07,  1.80144097e+07,  1.80144063e+07,\n",
       "        1.80144114e+07,  1.80144022e+07,  1.80144070e+07,  1.80144113e+07,\n",
       "        1.80144086e+07,  1.80144127e+07,  1.80144140e+07,  1.80144077e+07,\n",
       "        1.80144059e+07,  1.80144050e+07,  1.80144043e+07,  1.80144120e+07,\n",
       "        1.80144105e+07,  1.80144074e+07,  1.80144066e+07,  1.80144117e+07,\n",
       "        1.80144075e+07,  1.80144119e+07,  1.80144175e+07,  1.80144020e+07,\n",
       "        1.80144033e+07,  1.80144088e+07,  1.80144114e+07,  1.80144103e+07,\n",
       "        1.80144110e+07,  1.80144090e+07,  1.80144091e+07,  1.80143959e+07,\n",
       "        1.80144101e+07,  1.80144080e+07,  1.80144119e+07,  1.80144148e+07,\n",
       "        1.80144145e+07,  1.80144135e+07,  1.80144105e+07,  1.80144047e+07,\n",
       "        1.80144158e+07,  1.80144205e+07,  1.80144140e+07,  1.80144070e+07,\n",
       "        1.80144094e+07,  1.80144109e+07,  1.80144034e+07,  1.80144065e+07,\n",
       "        1.80144067e+07,  1.80144086e+07, -3.57567831e+09, -3.65717479e+09,\n",
       "       -3.01463143e+09, -2.61609412e+09, -2.90429547e+09, -9.22844554e+09,\n",
       "       -7.08397649e+08, -2.79834800e+09, -2.87984448e+09, -2.79834800e+09,\n",
       "       -3.83942867e+09, -3.44089136e+09, -3.44089136e+09,  2.77292275e+09,\n",
       "        2.77292275e+09, -5.74712514e+09, -5.74712514e+09, -3.55122732e+09,\n",
       "        2.77292275e+09, -2.79834800e+09, -2.79834800e+09,  2.77292275e+09,\n",
       "       -5.74712514e+09, -5.74712514e+09])"
      ]
     },
     "execution_count": 14,
     "metadata": {},
     "output_type": "execute_result"
    }
   ],
   "source": [
    "lm.coef_"
   ]
  },
  {
   "cell_type": "code",
   "execution_count": 15,
   "metadata": {},
   "outputs": [],
   "source": [
    "X[\"PredictedBikes\"] = lm.predict(X)"
   ]
  },
  {
   "cell_type": "code",
   "execution_count": 16,
   "metadata": {},
   "outputs": [
    {
     "data": {
      "text/plain": [
       "0     -5.048154e+11\n",
       "1     -5.048154e+11\n",
       "2     -5.048154e+11\n",
       "3     -3.408474e+11\n",
       "4     -3.408474e+11\n",
       "5     -3.408474e+11\n",
       "6     -3.408474e+11\n",
       "7     -3.408474e+11\n",
       "8     -3.408474e+11\n",
       "9     -3.408474e+11\n",
       "10    -3.408474e+11\n",
       "11    -3.408474e+11\n",
       "12    -3.408474e+11\n",
       "13    -3.408474e+11\n",
       "14    -3.408474e+11\n",
       "15    -3.408474e+11\n",
       "16    -3.408474e+11\n",
       "17    -3.408474e+11\n",
       "18    -3.408474e+11\n",
       "19    -3.408474e+11\n",
       "20    -3.408474e+11\n",
       "21    -3.408474e+11\n",
       "22    -3.408474e+11\n",
       "23    -3.408474e+11\n",
       "24    -3.408474e+11\n",
       "25    -3.408474e+11\n",
       "26    -3.408474e+11\n",
       "27    -3.890358e+11\n",
       "28    -3.890358e+11\n",
       "29    -3.890358e+11\n",
       "           ...     \n",
       "74    -3.890358e+11\n",
       "75    -3.890358e+11\n",
       "76    -3.890358e+11\n",
       "77    -3.890358e+11\n",
       "78    -3.890358e+11\n",
       "79    -3.890358e+11\n",
       "80    -3.890358e+11\n",
       "81    -3.890358e+11\n",
       "82    -3.890358e+11\n",
       "83    -3.890358e+11\n",
       "84    -3.890358e+11\n",
       "85    -3.890358e+11\n",
       "86    -3.890358e+11\n",
       "87    -3.890358e+11\n",
       "88    -3.890358e+11\n",
       "89    -3.890358e+11\n",
       "90    -3.890358e+11\n",
       "91    -3.890358e+11\n",
       "92    -3.890358e+11\n",
       "93    -3.890358e+11\n",
       "94    -3.890358e+11\n",
       "95    -3.890358e+11\n",
       "96    -3.890358e+11\n",
       "97    -3.890358e+11\n",
       "98    -3.890358e+11\n",
       "99    -3.890358e+11\n",
       "100   -3.890358e+11\n",
       "101   -3.890358e+11\n",
       "102   -3.890358e+11\n",
       "103   -3.890358e+11\n",
       "Name: PredictedBikes, Length: 104, dtype: float64"
      ]
     },
     "execution_count": 16,
     "metadata": {},
     "output_type": "execute_result"
    }
   ],
   "source": [
    "X[\"PredictedBikes\"]"
   ]
  },
  {
   "cell_type": "code",
   "execution_count": 17,
   "metadata": {},
   "outputs": [
    {
     "data": {
      "text/plain": [
       "currentTemp                                         2.806940e+02\n",
       "pressure                                            1.015000e+03\n",
       "humidity                                            9.800000e+01\n",
       "windSpeed                                           7.060000e+00\n",
       "windAngle                                           8.000000e+01\n",
       "cloudDensity                                        9.200000e+01\n",
       "Intercept                                           1.000000e+00\n",
       "mainDescription_Rain                                1.000000e+00\n",
       "detailedDescription_light rain                      1.000000e+00\n",
       "day_Thursday                                        1.000000e+00\n",
       "hour_9                                              1.000000e+00\n",
       "address_Barrow Street                               1.000000e+00\n",
       "address_Benson Street                               0.000000e+00\n",
       "address_Blackhall Place                             0.000000e+00\n",
       "address_Blessington Street                          0.000000e+00\n",
       "address_Bolton Street                               0.000000e+00\n",
       "address_Brookfield Road                             0.000000e+00\n",
       "address_Cathal Brugha Street                        0.000000e+00\n",
       "address_Charlemont Street                           0.000000e+00\n",
       "address_Christchurch Place                          0.000000e+00\n",
       "address_City Quay                                   0.000000e+00\n",
       "address_Clarendon Row                               0.000000e+00\n",
       "address_Clonmel Street                              0.000000e+00\n",
       "address_Collins Barracks Museum                     0.000000e+00\n",
       "address_Convention Centre                           0.000000e+00\n",
       "address_Custom House                                0.000000e+00\n",
       "address_Custom House Quay                           0.000000e+00\n",
       "address_Dame Street                                 0.000000e+00\n",
       "address_Denmark Street Great                        0.000000e+00\n",
       "address_Deverell Place                              0.000000e+00\n",
       "                                                        ...     \n",
       "hour_17                                             0.000000e+00\n",
       "hour_18                                             0.000000e+00\n",
       "hour_19                                             0.000000e+00\n",
       "hour_20                                             0.000000e+00\n",
       "hour_21                                             0.000000e+00\n",
       "hour_22                                             0.000000e+00\n",
       "hour_23                                             0.000000e+00\n",
       "mainDescription_Clear                               0.000000e+00\n",
       "mainDescription_Clouds                              0.000000e+00\n",
       "mainDescription_Drizzle                             0.000000e+00\n",
       "mainDescription_Fog                                 0.000000e+00\n",
       "mainDescription_Mist                                0.000000e+00\n",
       "mainDescription_Snow                                0.000000e+00\n",
       "detailedDescription_broken clouds                   0.000000e+00\n",
       "detailedDescription_clear sky                       0.000000e+00\n",
       "detailedDescription_few clouds                      0.000000e+00\n",
       "detailedDescription_fog                             0.000000e+00\n",
       "detailedDescription_light intensity drizzle         0.000000e+00\n",
       "detailedDescription_light intensity drizzle rain    0.000000e+00\n",
       "detailedDescription_light intensity shower rain     0.000000e+00\n",
       "detailedDescription_light shower snow               0.000000e+00\n",
       "detailedDescription_light snow                      0.000000e+00\n",
       "detailedDescription_mist                            0.000000e+00\n",
       "detailedDescription_moderate rain                   0.000000e+00\n",
       "detailedDescription_overcast clouds                 0.000000e+00\n",
       "detailedDescription_scattered clouds                0.000000e+00\n",
       "detailedDescription_shower rain                     0.000000e+00\n",
       "detailedDescription_shower sleet                    0.000000e+00\n",
       "detailedDescription_shower snow                     0.000000e+00\n",
       "PredictedBikes                                     -5.048154e+11\n",
       "Name: 0, Length: 167, dtype: float64"
      ]
     },
     "execution_count": 17,
     "metadata": {},
     "output_type": "execute_result"
    }
   ],
   "source": [
    "X.iloc[0]"
   ]
  },
  {
   "cell_type": "code",
   "execution_count": 18,
   "metadata": {},
   "outputs": [
    {
     "data": {
      "text/plain": [
       "mainDescription                 Rain\n",
       "detailedDescription       light rain\n",
       "currentTemp                  280.694\n",
       "pressure                        1015\n",
       "humidity                          98\n",
       "windSpeed                       7.06\n",
       "windAngle                         80\n",
       "cloudDensity                      92\n",
       "day                         Thursday\n",
       "hour                               9\n",
       "address                Barrow Street\n",
       "Intercept                          1\n",
       "Name: 0, dtype: object"
      ]
     },
     "execution_count": 18,
     "metadata": {},
     "output_type": "execute_result"
    }
   ],
   "source": [
    "df_forecast.iloc[0]"
   ]
  }
 ],
 "metadata": {
  "kernelspec": {
   "display_name": "Python [conda env:Software]",
   "language": "python",
   "name": "conda-env-Software-py"
  },
  "language_info": {
   "codemirror_mode": {
    "name": "ipython",
    "version": 3
   },
   "file_extension": ".py",
   "mimetype": "text/x-python",
   "name": "python",
   "nbconvert_exporter": "python",
   "pygments_lexer": "ipython3",
   "version": "3.6.4"
  }
 },
 "nbformat": 4,
 "nbformat_minor": 2
}
